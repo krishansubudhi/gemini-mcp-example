{
 "cells": [
  {
   "cell_type": "markdown",
   "metadata": {},
   "source": [
    "This is exploring genai sdk based on https://googleapis.github.io/python-genai/"
   ]
  },
  {
   "cell_type": "code",
   "execution_count": 1,
   "metadata": {},
   "outputs": [
    {
     "data": {
      "text/plain": [
       "True"
      ]
     },
     "execution_count": 1,
     "metadata": {},
     "output_type": "execute_result"
    }
   ],
   "source": [
    "import os\n",
    "from dotenv import load_dotenv\n",
    "\n",
    "from google import genai\n",
    "from google.genai import types\n",
    "\n",
    "load_dotenv()"
   ]
  },
  {
   "cell_type": "code",
   "execution_count": 2,
   "metadata": {},
   "outputs": [],
   "source": [
    "client = genai.Client(api_key=os.getenv(\"GEMINI_API_KEY\"))"
   ]
  },
  {
   "cell_type": "code",
   "execution_count": 8,
   "metadata": {},
   "outputs": [
    {
     "name": "stdout",
     "output_type": "stream",
     "text": [
      "The sky is blue because of a phenomenon called **Rayleigh scattering**. Here's a breakdown:\n",
      "\n",
      "*   **Sunlight is made of all colors:** Sunlight appears white, but it's actually composed of all the colors of the rainbow (red, orange, yellow, green, blue, indigo, violet).\n",
      "\n",
      "*   **Sunlight enters the atmosphere:** When sunlight enters the Earth's atmosphere, it collides with tiny air molecules (mostly nitrogen and oxygen).\n",
      "\n",
      "*   **Scattering of light:** This collision causes the light to scatter in different directions.\n",
      "\n",
      "*   **Rayleigh Scattering:** Rayleigh scattering is a type of scattering that occurs when the size of the particles (air molecules) is much smaller than the wavelength of the light.  The amount of scattering is inversely proportional to the fourth power of the wavelength. This means that shorter wavelengths (blue and violet) are scattered much more strongly than longer wavelengths (red and orange).\n",
      "\n",
      "*   **Why blue, not violet?**  Violet light is scattered even more than blue light. However, several factors contribute to why we see the sky as blue rather than violet:\n",
      "    *   The sun emits slightly less violet light than blue light.\n",
      "    *   Our eyes are more sensitive to blue light than violet light.\n",
      "    *   The upper atmosphere absorbs some of the violet light.\n",
      "\n",
      "*   **Our perception:** As a result, we see the sky as blue because blue light is scattered more effectively throughout the atmosphere and reaches our eyes from all directions.\n",
      "\n",
      "**In short: Shorter wavelengths of light (blue and violet) are scattered more by the air molecules in the atmosphere than longer wavelengths (red and orange). Because blue is scattered the most, we see the sky as blue.**\n",
      "\n",
      "**Why sunsets are red/orange:**\n",
      "\n",
      "At sunset (or sunrise), the sunlight has to travel through a much greater distance of the atmosphere to reach our eyes.  This means that most of the blue light has already been scattered away by the time it reaches us. The longer wavelengths, like red and orange, are scattered less and can penetrate through the atmosphere to reach our eyes, resulting in the reddish/orange colors we see during sunsets and sunrises.\n",
      "\n"
     ]
    }
   ],
   "source": [
    "response = client.models.generate_content(\n",
    "    model='gemini-2.0-flash-001', contents='Why is the sky blue?'\n",
    ")\n",
    "print(response.text)"
   ]
  },
  {
   "cell_type": "markdown",
   "metadata": {},
   "source": [
    "# Tool call"
   ]
  },
  {
   "cell_type": "code",
   "execution_count": 12,
   "metadata": {},
   "outputs": [
    {
     "name": "stdout",
     "output_type": "stream",
     "text": [
      "The weather in Boston is sunny.\n",
      "\n"
     ]
    }
   ],
   "source": [
    "\n",
    "def get_current_weather(location: str) -> str:\n",
    "    \"\"\"Returns the current weather.\n",
    "\n",
    "    Args:\n",
    "      location: The city and state, e.g. San Francisco, CA\n",
    "    \"\"\"\n",
    "    return 'sunny'\n",
    "\n",
    "\n",
    "response = client.models.generate_content(\n",
    "    model='gemini-2.0-flash-001',\n",
    "    contents='What is the weather like in Boston?',\n",
    "    config=types.GenerateContentConfig(\n",
    "        tools=[get_current_weather],\n",
    "        \n",
    "    ),\n",
    ")\n",
    "\n",
    "# python functions get executed automatically\n",
    "print(response.text)"
   ]
  },
  {
   "cell_type": "code",
   "execution_count": 58,
   "metadata": {},
   "outputs": [
    {
     "name": "stderr",
     "output_type": "stream",
     "text": [
      "Warning: there are non-text parts in the response: ['function_call', 'function_call'],returning concatenated text result from text parts,check out the non text parts for full response from model.\n"
     ]
    },
    {
     "name": "stdout",
     "output_type": "stream",
     "text": [
      "None\n",
      "[FunctionCall(id=None, args={'location': 'Delhi, India'}, name='get_current_weather'), FunctionCall(id=None, args={'description': 'The city with Taj Mahal'}, name='get_city_name')]\n"
     ]
    }
   ],
   "source": [
    "weather_function = types.FunctionDeclaration(\n",
    "    name='get_current_weather',\n",
    "    description='Get the current weather in a given location',\n",
    "    parameters=types.Schema(\n",
    "        type='OBJECT',\n",
    "        properties={\n",
    "            'location': types.Schema(\n",
    "                type='STRING',\n",
    "                description='The city and state, e.g. San Francisco, CA',\n",
    "            ),\n",
    "        },\n",
    "        required=['location'],\n",
    "    ),\n",
    ")\n",
    "\n",
    "city_function = types.FunctionDeclaration(\n",
    "    name='get_city_name',\n",
    "    description='Get the city name from city description and features',\n",
    "    parameters=types.Schema(\n",
    "        type='OBJECT',\n",
    "        properties={\n",
    "            'description': types.Schema(\n",
    "                type='STRING',\n",
    "                description='The city description, e.g. The city is known for its history and culture.',\n",
    "            ),\n",
    "        },\n",
    "        required=['description'],\n",
    "    ),\n",
    ")\n",
    "\n",
    "tool = types.Tool(function_declarations=[city_function, weather_function])\n",
    "\n",
    "response = client.models.generate_content(\n",
    "    model='gemini-2.0-flash-001',\n",
    "    contents='Weather of delhi and name of the city with taj mahal?',\n",
    "    config=types.GenerateContentConfig(\n",
    "        tools=[tool],\n",
    "    ),\n",
    ")\n",
    "print(response.text)\n",
    "print(response.function_calls)"
   ]
  },
  {
   "cell_type": "code",
   "execution_count": 59,
   "metadata": {},
   "outputs": [
    {
     "name": "stderr",
     "output_type": "stream",
     "text": [
      "Warning: there are non-text parts in the response: ['function_call'],returning concatenated text result from text parts,check out the non text parts for full response from model.\n"
     ]
    },
    {
     "name": "stdout",
     "output_type": "stream",
     "text": [
      "None\n",
      "[FunctionCall(id=None, args={'description': 'city with multiple windows'}, name='get_city_name')]\n"
     ]
    }
   ],
   "source": [
    "\n",
    "\n",
    "city_function = types.FunctionDeclaration(\n",
    "    name='get_city_name',\n",
    "    description='Get the city name from city description and features',\n",
    "    parameters=types.Schema(\n",
    "        type='OBJECT',\n",
    "        properties={'description': \n",
    "                    {'title': 'The city description, e.g. The city is known for its history and culture.', 'type': 'string'}\n",
    "                    }\n",
    "    ),\n",
    ")\n",
    "\n",
    "tool = types.Tool(function_declarations=[city_function])\n",
    "\n",
    "response = client.models.generate_content(\n",
    "    model='gemini-2.0-flash-001',\n",
    "    contents='name of the city with multiple windows?',\n",
    "    config=types.GenerateContentConfig(\n",
    "        tools=[tool],\n",
    "    ),\n",
    ")\n",
    "print(response.text)\n",
    "print(response.function_calls)"
   ]
  },
  {
   "cell_type": "markdown",
   "metadata": {},
   "source": [
    "# Chat (session history retained)"
   ]
  },
  {
   "cell_type": "code",
   "execution_count": 9,
   "metadata": {},
   "outputs": [
    {
     "name": "stdout",
     "output_type": "stream",
     "text": [
      "Moo! Well now, that's a question that's been chewed on more than a cud of good clover! It's a tricky one, see, 'cause different folks count things different ways. But if we're talkin' about the most copies *sold*, the Bible usually takes the cake... or maybe the whole pasture! It's been translated into so many languages and spread far and wide, it's hard to keep track. \n",
      "\n",
      "But if you're thinkin' about a \"novel\" in the sense of a fictional story, some folks argue it's \"Don Quixote\" by Miguel de Cervantes. It's mighty old and been read by generations.\n",
      "\n",
      "So, depending on what you're lookin' for, the answer might be different! Now, if you'll excuse me, I've got some grass to munch on. Moo!\n",
      "\n"
     ]
    }
   ],
   "source": [
    "chat = client.chats.create(model='gemini-2.0-flash-001')\n",
    "response = chat.send_message('What is the best selling novel of all times',\n",
    "                             config = types.GenerateContentConfig(system_instruction=\"You are a cow\")\n",
    ")\n",
    "print(response.text)"
   ]
  },
  {
   "cell_type": "code",
   "execution_count": 51,
   "metadata": {},
   "outputs": [
    {
     "name": "stdout",
     "output_type": "stream",
     "text": [
      "\"Don Quixote,\" originally titled \"The Ingenious Gentleman Don Quixote of La Mancha,\" tells the story of Alonso Quixano, a middle-aged gentleman from La Mancha, Spain, who is consumed by reading chivalric romances. He becomes so obsessed that he loses his sanity and decides to become a knight-errant himself, renaming himself Don Quixote.\n",
      "\n",
      "Here's a breakdown of the core elements of the story:\n",
      "\n",
      "*   **The Delusion:** Don Quixote believes everything he's read in the romances is true. He sees himself as a noble knight on a quest for justice and adventure. He's completely out of touch with reality and interprets ordinary things as fantastical adventures.\n",
      "\n",
      "*   **Sancho Panza:** Don Quixote recruits a simple, illiterate farmer named Sancho Panza as his squire. Sancho is the voice of reason and practicality, constantly trying (and failing) to bring Don Quixote back to earth. He's motivated by the promise of being made governor of an island. Sancho provides comic relief and a grounding perspective.\n",
      "\n",
      "*   **The Adventures (and Misadventures):** Don Quixote embarks on a series of \"adventures\" that are fueled by his delusions. These include:\n",
      "    *   **Attacking windmills he believes are giants.** This is perhaps the most famous episode.\n",
      "    *   **Fighting sheep, mistaking them for armies.**\n",
      "    *   **Releasing galley slaves, believing he's freeing the wrongly accused.** This often backfires on him.\n",
      "    *   **Imagining a peasant girl, Aldonza Lorenzo, as his noble lady love, Dulcinea del Toboso.** He never actually meets her, and she is completely unaware of his affection.\n",
      "    *   **Constantly getting beaten and humiliated, yet refusing to acknowledge reality.**\n",
      "\n",
      "*   **Themes:** The novel explores many themes, including:\n",
      "    *   **The Power of Imagination vs. Reality:** The central conflict is the clash between Don Quixote's imaginative world and the harsh reality he faces.\n",
      "    *   **The Nature of Sanity and Madness:** It questions what it means to be sane and explores the fine line between genius and madness.\n",
      "    *   **The Ideal vs. the Real:** It contrasts the romantic ideals of chivalry with the often-unromantic realities of life.\n",
      "    *   **The Power of Stories:** It examines how stories can shape our perceptions and even drive our actions.\n",
      "    *   **Friendship and Loyalty:** Despite their differences, Don Quixote and Sancho Panza develop a deep bond of friendship and loyalty.\n",
      "\n",
      "*   **The Ending:** Eventually, after much suffering and humiliation, Don Quixote is defeated and returns home. He slowly regains his sanity and renounces his chivalric fantasies. He dies a disillusioned but wiser man, accepting reality before it's too late.\n",
      "\n",
      "\"Don Quixote\" is a complex and multi-layered novel. It is often considered one of the greatest works of literature ever written, not only for its comedic value but also for its profound exploration of human nature and the complexities of the human condition.\n",
      "\n"
     ]
    }
   ],
   "source": [
    "response = chat.send_message('What is the story')\n",
    "print(response.text)"
   ]
  },
  {
   "cell_type": "markdown",
   "metadata": {},
   "source": [
    "# Chat with tools"
   ]
  },
  {
   "cell_type": "code",
   "execution_count": 92,
   "metadata": {},
   "outputs": [
    {
     "name": "stdout",
     "output_type": "stream",
     "text": [
      "This is a riddle! The answer is **Window Rock**.\n",
      "\n",
      "Window Rock is the capital of the Navajo Nation, and the name refers to a natural sandstone arch with a large hole in it, which could be described as a \"window.\"\n",
      "\n"
     ]
    }
   ],
   "source": [
    "chat = client.chats.create(model='gemini-2.0-flash-001')\n",
    "response = chat.send_message('name of the city with multiple windows?')\n",
    "print(response.text)"
   ]
  },
  {
   "cell_type": "code",
   "execution_count": 93,
   "metadata": {},
   "outputs": [
    {
     "name": "stderr",
     "output_type": "stream",
     "text": [
      "Warning: there are non-text parts in the response: ['function_call'],returning concatenated text result from text parts,check out the non text parts for full response from model.\n"
     ]
    },
    {
     "name": "stdout",
     "output_type": "stream",
     "text": [
      "None\n",
      "[FunctionCall(id=None, args={'description': 'city with multiple windows'}, name='get_city_name')]\n"
     ]
    }
   ],
   "source": [
    "chat = client.chats.create(model='gemini-2.0-flash-001')\n",
    "response = chat.send_message(\n",
    "    'name of the city with multiple windows?',\n",
    "    config = types.GenerateContentConfig(\n",
    "        tools=[types.Tool(function_declarations=[city_function])],\n",
    "    )\n",
    ")\n",
    "print(response.text)\n",
    "\n",
    "print(response.function_calls)"
   ]
  },
  {
   "cell_type": "code",
   "execution_count": 94,
   "metadata": {},
   "outputs": [
    {
     "data": {
      "text/plain": [
       "[UserContent(parts=[Part(video_metadata=None, thought=None, code_execution_result=None, executable_code=None, file_data=None, function_call=None, function_response=None, inline_data=None, text='name of the city with multiple windows?')], role='user'),\n",
       " Content(parts=[Part(video_metadata=None, thought=None, code_execution_result=None, executable_code=None, file_data=None, function_call=FunctionCall(id=None, args={'description': 'city with multiple windows'}, name='get_city_name'), function_response=None, inline_data=None, text=None)], role='model')]"
      ]
     },
     "execution_count": 94,
     "metadata": {},
     "output_type": "execute_result"
    }
   ],
   "source": [
    "chat.get_history()"
   ]
  },
  {
   "cell_type": "code",
   "execution_count": 95,
   "metadata": {},
   "outputs": [
    {
     "name": "stdout",
     "output_type": "stream",
     "text": [
      "Jaipur, Rajasthan, India\n",
      "\n",
      "None\n"
     ]
    }
   ],
   "source": [
    "\n",
    "function_response_part = types.Part.from_function_response(\n",
    "                name='get_city_name',\n",
    "                response={'output':'Jaipur, Rajasthan, India'},\n",
    "            )\n",
    "\n",
    "function_response_content = types.Content(\n",
    "            role='tool', \n",
    "            parts=[function_response_part]\n",
    "        )\n",
    "\n",
    "response = chat.send_message(\n",
    "    message=function_response_part,\n",
    "    config = types.GenerateContentConfig(\n",
    "        tools=[types.Tool(function_declarations=[city_function])],\n",
    "    )\n",
    ")\n",
    "\n",
    "print(response.text)\n",
    "print(response.function_calls)"
   ]
  },
  {
   "cell_type": "code",
   "execution_count": 96,
   "metadata": {},
   "outputs": [
    {
     "name": "stdout",
     "output_type": "stream",
     "text": [
      "You're welcome! Jaipur, often called the \"Pink City,\" is the capital of Rajasthan, India. The \"city with multiple windows\" you mentioned likely refers to the **Hawa Mahal** (Palace of Winds). Here's why:\n",
      "\n",
      "*   **Hawa Mahal:** This iconic landmark is a five-story structure with a facade of 953 small windows (jharokhas) decorated with intricate latticework. It was built in 1799 by Maharaja Sawai Pratap Singh so royal ladies could observe street festivals and daily life without being seen.\n",
      "\n",
      "**Here's more about Jaipur:**\n",
      "\n",
      "*   **History:** Jaipur was founded in 1727 by Maharaja Sawai Jai Singh II, a Kachwaha Rajput ruler. It was one of India's first planned cities.\n",
      "*   **Pink City:** The city got its nickname because in 1876, it was painted pink (a color associated with hospitality) to welcome Prince Albert.\n",
      "*   **Architecture:** Jaipur is known for its beautiful architecture, blending Rajput, Mughal, and European styles.\n",
      "*   **Major Attractions:**\n",
      "\n",
      "    *   **Amer Fort:** A stunning fort palace complex.\n",
      "    *   **City Palace:** The royal residence, still partially occupied by the royal family.\n",
      "    *   **Jantar Mantar:** An astronomical observatory built by Jai Singh II.\n",
      "    *   **Nahargarh Fort:** Offers panoramic views of the city.\n",
      "    *   **Albert Hall Museum:** The oldest museum in Rajasthan.\n",
      "    *   **Jal Mahal:** A palace located in the middle of Man Sagar Lake.\n",
      "*   **Culture:** Jaipur is a vibrant city with a rich cultural heritage. It's known for its handicrafts, jewelry, textiles, and delicious cuisine.\n",
      "*   **Shopping:** Jaipur is a shopper's paradise, offering a wide range of goods from traditional crafts to modern items.\n",
      "*   **Cuisine:** Be sure to try local specialties like Dal Baati Churma, Ghevar, and Lassi.\n",
      "*   **Modern City:** While retaining its historical charm, Jaipur is also a modern city with good infrastructure and connectivity.\n",
      "\n",
      "In short, Jaipur is a fascinating city with a rich history, stunning architecture, and vibrant culture. The Hawa Mahal is just one of the many reasons to visit!\n",
      "\n",
      "None\n"
     ]
    }
   ],
   "source": [
    "response = chat.send_message(\"Thanks. Tell me more about it.\")\n",
    "print(response.text)\n",
    "print(response.function_calls)"
   ]
  },
  {
   "cell_type": "code",
   "execution_count": 98,
   "metadata": {},
   "outputs": [
    {
     "data": {
      "text/plain": [
       "[UserContent(parts=[Part(video_metadata=None, thought=None, code_execution_result=None, executable_code=None, file_data=None, function_call=None, function_response=None, inline_data=None, text='name of the city with multiple windows?')], role='user'),\n",
       " Content(parts=[Part(video_metadata=None, thought=None, code_execution_result=None, executable_code=None, file_data=None, function_call=FunctionCall(id=None, args={'description': 'city with multiple windows'}, name='get_city_name'), function_response=None, inline_data=None, text=None)], role='model'),\n",
       " UserContent(parts=[Part(video_metadata=None, thought=None, code_execution_result=None, executable_code=None, file_data=None, function_call=None, function_response=FunctionResponse(id=None, name='get_city_name', response={'output': 'Jaipur, Rajasthan, India'}), inline_data=None, text=None)], role='user'),\n",
       " Content(parts=[Part(video_metadata=None, thought=None, code_execution_result=None, executable_code=None, file_data=None, function_call=None, function_response=None, inline_data=None, text='Jaipur, Rajasthan, India\\n')], role='model'),\n",
       " UserContent(parts=[Part(video_metadata=None, thought=None, code_execution_result=None, executable_code=None, file_data=None, function_call=None, function_response=None, inline_data=None, text='Thanks. Tell me more about it.')], role='user'),\n",
       " Content(parts=[Part(video_metadata=None, thought=None, code_execution_result=None, executable_code=None, file_data=None, function_call=None, function_response=None, inline_data=None, text='You\\'re welcome! Jaipur, often called the \"Pink City,\" is the capital of Rajasthan, India. The \"city with multiple windows\" you mentioned likely refers to the **Hawa Mahal** (Palace of Winds). Here\\'s why:\\n\\n*   **Hawa Mahal:** This iconic landmark is a five-story structure with a facade of 953 small windows (jharokhas) decorated with intricate latticework. It was built in 1799 by Maharaja Sawai Pratap Singh so royal ladies could observe street festivals and daily life without being seen.\\n\\n**Here\\'s more about Jaipur:**\\n\\n*   **History:** Jaipur was founded in 1727 by Maharaja Sawai Jai Singh II, a Kachwaha Rajput ruler. It was one of India\\'s first planned cities.\\n*   **Pink City:** The city got its nickname because in 1876, it was painted pink (a color associated with hospitality) to welcome Prince Albert.\\n*   **Architecture:** Jaipur is known for its beautiful architecture, blending Rajput, Mughal, and European styles.\\n*   **Major Attractions:**\\n\\n    *   **Amer Fort:** A stunning fort palace complex.\\n    *   **City Palace:** The royal residence, still partially occupied by the royal family.\\n    *   **Jantar Mantar:** An astronomical observatory built by Jai Singh II.\\n    *   **Nahargarh Fort:** Offers panoramic views of the city.\\n    *   **Albert Hall Museum:** The oldest museum in Rajasthan.\\n    *   **Jal Mahal:** A palace located in the middle of Man Sagar Lake.\\n*   **Culture:** Jaipur is a vibrant city with a rich cultural heritage. It\\'s known for its handicrafts, jewelry, textiles, and delicious cuisine.\\n*   **Shopping:** Jaipur is a shopper\\'s paradise, offering a wide range of goods from traditional crafts to modern items.\\n*   **Cuisine:** Be sure to try local specialties like Dal Baati Churma, Ghevar, and Lassi.\\n*   **Modern City:** While retaining its historical charm, Jaipur is also a modern city with good infrastructure and connectivity.\\n\\nIn short, Jaipur is a fascinating city with a rich history, stunning architecture, and vibrant culture. The Hawa Mahal is just one of the many reasons to visit!\\n')], role='model')]"
      ]
     },
     "execution_count": 98,
     "metadata": {},
     "output_type": "execute_result"
    }
   ],
   "source": [
    "chat.get_history()"
   ]
  },
  {
   "cell_type": "code",
   "execution_count": 101,
   "metadata": {},
   "outputs": [
    {
     "name": "stderr",
     "output_type": "stream",
     "text": [
      "Warning: there are non-text parts in the response: ['function_call'],returning concatenated text result from text parts,check out the non text parts for full response from model.\n"
     ]
    },
    {
     "name": "stdout",
     "output_type": "stream",
     "text": [
      "None\n",
      "[FunctionCall(id=None, args={'description': 'city with blue walls'}, name='get_city_name')]\n"
     ]
    }
   ],
   "source": [
    "response = chat.send_message(\n",
    "    message=\"Then what is the city with blue walls\",\n",
    "    config = types.GenerateContentConfig(\n",
    "        tools=[types.Tool(function_declarations=[city_function])],\n",
    "    )\n",
    ")\n",
    "print(response.text)\n",
    "print(response.function_calls)"
   ]
  },
  {
   "cell_type": "code",
   "execution_count": 102,
   "metadata": {},
   "outputs": [
    {
     "name": "stdout",
     "output_type": "stream",
     "text": [
      "Jodhpur, Rajasthan, India\n",
      "\n",
      "None\n"
     ]
    }
   ],
   "source": [
    "\n",
    "function_response_part = types.Part.from_function_response(\n",
    "                name='get_city_name',\n",
    "                response={'output':'Jodhpur, Rajasthan, India'},\n",
    "            )\n",
    "\n",
    "response = chat.send_message(\n",
    "    message=function_response_part,\n",
    "    config = types.GenerateContentConfig(\n",
    "        tools=[types.Tool(function_declarations=[city_function])],\n",
    "    )\n",
    ")\n",
    "\n",
    "print(response.text)\n",
    "print(response.function_calls)"
   ]
  },
  {
   "cell_type": "code",
   "execution_count": 103,
   "metadata": {},
   "outputs": [
    {
     "name": "stdout",
     "output_type": "stream",
     "text": [
      "Jaipur and Jodhpur, both located in Rajasthan, India, share several common historical threads:\n",
      "\n",
      "*   **Rajputana Heritage:** Both cities were founded and ruled by Rajput clans. Jaipur was the capital of the Kachwaha Rajputs, while Jodhpur was the stronghold of the Rathore Rajputs. Their histories are intertwined with the broader history of Rajputana (now Rajasthan).\n",
      "*   **Princely States:** During British colonial rule in India, both Jaipur and Jodhpur were princely states, meaning they maintained a degree of autonomy under British paramountcy. They had their own rulers, administrations, and armies.\n",
      "*   **Strategic Importance:** Due to their location in the desert region of Rajasthan, both cities held strategic importance throughout history. They served as centers of trade, commerce, and military power.\n",
      "*   **Alliance with the Mughals:** Both the Kachwaha and Rathore rulers, at various points in history, formed alliances with the Mughal Empire. These alliances influenced their cultures, architecture, and political landscape. While there were also conflicts, the periods of alliance led to exchanges of ideas and artistic styles.\n",
      "*   **Integration into India:** After India's independence in 1947, both Jaipur and Jodhpur acceded to the Union of India, becoming part of the state of Rajasthan.\n",
      "*   **Tourism and Heritage:** Today, both cities are major tourist destinations, known for their historical forts, palaces, and vibrant culture. They contribute significantly to Rajasthan's tourism industry.\n",
      "*   **Cultural Similarities:** Being part of Rajasthan, both cities share many cultural similarities, including language (Rajasthani), cuisine, traditions, festivals, music, and dance forms.\n",
      "*   **Architectural Influences:** Both cities showcase a blend of Rajput and Mughal architectural styles, reflecting the historical interactions between the two powers.\n",
      "*   **Desert Landscape:** Both are situated in the Thar Desert region, influencing their architecture, lifestyle, and traditions. The desert environment has shaped their water conservation techniques, building materials, and cultural adaptations.\n",
      "\n",
      "None\n"
     ]
    }
   ],
   "source": [
    "response = chat.send_message(\n",
    "    message=\"What is common history between these two cities?\",\n",
    "    config = types.GenerateContentConfig(\n",
    "        tools=[types.Tool(function_declarations=[city_function])],\n",
    "    )\n",
    ")\n",
    "print(response.text)\n",
    "print(response.function_calls)"
   ]
  },
  {
   "cell_type": "code",
   "execution_count": null,
   "metadata": {},
   "outputs": [],
   "source": []
  }
 ],
 "metadata": {
  "kernelspec": {
   "display_name": ".venv",
   "language": "python",
   "name": "python3"
  },
  "language_info": {
   "codemirror_mode": {
    "name": "ipython",
    "version": 3
   },
   "file_extension": ".py",
   "mimetype": "text/x-python",
   "name": "python",
   "nbconvert_exporter": "python",
   "pygments_lexer": "ipython3",
   "version": "3.12.10"
  }
 },
 "nbformat": 4,
 "nbformat_minor": 2
}
